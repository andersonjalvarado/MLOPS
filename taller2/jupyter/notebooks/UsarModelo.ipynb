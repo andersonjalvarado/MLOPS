{
 "cells": [
  {
   "cell_type": "markdown",
   "metadata": {},
   "source": [
    "# Uso de un Modelo de Machine Learning ya Entrenado\n",
    "\n",
    "Este notebook muestra cómo cargar un modelo previamente entrenado y guardado en la carpeta compartida, y usarlo para hacer predicciones sobre nuevos datos."
   ]
  },
  {
   "cell_type": "code",
   "execution_count": 1,
   "metadata": {},
   "outputs": [],
   "source": [
    "import joblib\n",
    "import numpy as np"
   ]
  },
  {
   "cell_type": "markdown",
   "metadata": {},
   "source": [
    "## 1. Cargar el modelo entrenado"
   ]
  },
  {
   "cell_type": "code",
   "execution_count": null,
   "metadata": {},
   "outputs": [],
   "source": [
    "# Ruta al modelo guardado (ajusta si es necesario)\n",
    "modelo_path = '/workspace/sharedmodels/penguin_model.pkl'\n",
    "\n",
    "modelo = joblib.load(modelo_path)\n",
    "print(\"Modelo cargado correctamente.\")"
   ]
  },
  {
   "cell_type": "markdown",
   "metadata": {},
   "source": [
    "## 2. Realizar predicciones con nuevos datos"
   ]
  },
  {
   "cell_type": "code",
   "execution_count": 3,
   "metadata": {},
   "outputs": [],
   "source": [
    "# Ejemplo: dos muestras nuevas del dataset Iris\n",
    "nuevos_datos = np.array([\n",
    "    [5.0, 3.4, 1.5, 0.2],\n",
    "    [6.7, 3.1, 4.7, 1.5]\n",
    "])\n",
    "\n",
    "predicciones = modelo.predict(nuevos_datos)\n",
    "print(\"Predicciones:\", predicciones)"
   ]
  },
  {
   "cell_type": "markdown",
   "metadata": {},
   "source": [
    "## 3. Interpretar los resultados\n",
    "\n",
    "Las predicciones corresponden a las clases del dataset Iris:\n",
    "- 0: setosa\n",
    "- 1: versicolor\n",
    "- 2: virginica"
   ]
  }
 ],
 "metadata": {
  "kernelspec": {
   "display_name": "Python 3",
   "language": "python",
   "name": "python3"
  },
  "language_info": {
   "name": "python",
   "version": "3.11"
  }
 },
 "nbformat": 4,
 "nbformat_minor": 2
}
