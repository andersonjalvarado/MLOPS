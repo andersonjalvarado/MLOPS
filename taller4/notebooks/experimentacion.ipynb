{
 "cells": [
  {
   "cell_type": "code",
   "execution_count": 1,
   "id": "02059ab2-3a3b-41ba-98c3-dd1dcc7e9b14",
   "metadata": {},
   "outputs": [
    {
     "name": "stdout",
     "output_type": "stream",
     "text": [
      "Conexiones establecidas.\n",
      "Datos crudos guardados en la tabla 'raw_penguins_data'.\n",
      "Datos procesados guardados en la tabla 'processed_penguins_data'.\n"
     ]
    },
    {
     "name": "stderr",
     "output_type": "stream",
     "text": [
      "2025/09/22 04:35:42 WARNING mlflow.models.model: `artifact_path` is deprecated. Please use `name` instead.\n"
     ]
    },
    {
     "name": "stdout",
     "output_type": "stream",
     "text": [
      "Run 1: Accuracy = 0.9701\n"
     ]
    },
    {
     "name": "stderr",
     "output_type": "stream",
     "text": [
      "\u001b[31m2025/09/22 04:35:45 WARNING mlflow.models.model: Model logged without a signature and input example. Please set `input_example` parameter when logging the model to auto infer the model signature.\u001b[0m\n",
      "Successfully registered model 'PenguinClassifierModel'.\n",
      "2025/09/22 04:35:45 INFO mlflow.store.model_registry.abstract_store: Waiting up to 300 seconds for model version to finish creation. Model name: PenguinClassifierModel, version 1\n",
      "Created version '1' of model 'PenguinClassifierModel'.\n"
     ]
    },
    {
     "name": "stdout",
     "output_type": "stream",
     "text": [
      "🏃 View run run_1 at: http://host.docker.internal:5000/#/experiments/1/runs/83899f9179b74e2e8a9b94eada9b0096\n",
      "🧪 View experiment at: http://host.docker.internal:5000/#/experiments/1\n",
      "Run 2: Accuracy = 0.9701\n",
      "🏃 View run run_2 at: http://host.docker.internal:5000/#/experiments/1/runs/defee20161f24ea19443edcbde8d02ee\n",
      "🧪 View experiment at: http://host.docker.internal:5000/#/experiments/1\n",
      "Run 3: Accuracy = 0.9701\n",
      "🏃 View run run_3 at: http://host.docker.internal:5000/#/experiments/1/runs/b96a481f0b7745b3819ca1d0cb3db3c3\n",
      "🧪 View experiment at: http://host.docker.internal:5000/#/experiments/1\n",
      "Run 4: Accuracy = 0.9851\n",
      "🏃 View run run_4 at: http://host.docker.internal:5000/#/experiments/1/runs/2fae1db003614ef5b063757f1cfdb918\n",
      "🧪 View experiment at: http://host.docker.internal:5000/#/experiments/1\n",
      "Run 5: Accuracy = 0.9851\n",
      "🏃 View run run_5 at: http://host.docker.internal:5000/#/experiments/1/runs/ec86e3e424bc4d2bbe8378f41b25f150\n",
      "🧪 View experiment at: http://host.docker.internal:5000/#/experiments/1\n",
      "Run 6: Accuracy = 0.9701\n",
      "🏃 View run run_6 at: http://host.docker.internal:5000/#/experiments/1/runs/878ec9c837bb42ce8f6cfe02615eb93d\n",
      "🧪 View experiment at: http://host.docker.internal:5000/#/experiments/1\n",
      "Run 7: Accuracy = 0.9701\n",
      "🏃 View run run_7 at: http://host.docker.internal:5000/#/experiments/1/runs/58471c1fb5564ea69052b98c3cd2485b\n",
      "🧪 View experiment at: http://host.docker.internal:5000/#/experiments/1\n",
      "Run 8: Accuracy = 0.9701\n",
      "🏃 View run run_8 at: http://host.docker.internal:5000/#/experiments/1/runs/1aa32df3cc5e4585886a659d7207bca3\n",
      "🧪 View experiment at: http://host.docker.internal:5000/#/experiments/1\n",
      "Run 9: Accuracy = 0.9701\n",
      "🏃 View run run_9 at: http://host.docker.internal:5000/#/experiments/1/runs/d18cab2b772b42c688a7e9f0645ebb85\n",
      "🧪 View experiment at: http://host.docker.internal:5000/#/experiments/1\n",
      "Run 10: Accuracy = 0.9701\n",
      "🏃 View run run_10 at: http://host.docker.internal:5000/#/experiments/1/runs/8c3929d789b24eb596123009c0d796de\n",
      "🧪 View experiment at: http://host.docker.internal:5000/#/experiments/1\n",
      "Run 11: Accuracy = 0.9701\n",
      "🏃 View run run_11 at: http://host.docker.internal:5000/#/experiments/1/runs/ef3e328d6066417ea545e8c589f96fd3\n",
      "🧪 View experiment at: http://host.docker.internal:5000/#/experiments/1\n",
      "Run 12: Accuracy = 0.9851\n",
      "🏃 View run run_12 at: http://host.docker.internal:5000/#/experiments/1/runs/782b744ba4e84a7dbd862d829c60fb6b\n",
      "🧪 View experiment at: http://host.docker.internal:5000/#/experiments/1\n",
      "Run 13: Accuracy = 0.9701\n",
      "🏃 View run run_13 at: http://host.docker.internal:5000/#/experiments/1/runs/8d198a225f07442898a17020999302d7\n",
      "🧪 View experiment at: http://host.docker.internal:5000/#/experiments/1\n",
      "Run 14: Accuracy = 0.9701\n",
      "🏃 View run run_14 at: http://host.docker.internal:5000/#/experiments/1/runs/59c15754756d4563bec93db39fcee910\n",
      "🧪 View experiment at: http://host.docker.internal:5000/#/experiments/1\n",
      "Run 15: Accuracy = 0.9701\n",
      "🏃 View run run_15 at: http://host.docker.internal:5000/#/experiments/1/runs/af8fd27e41254334a0c235505aa1969d\n",
      "🧪 View experiment at: http://host.docker.internal:5000/#/experiments/1\n",
      "Run 16: Accuracy = 0.9701\n",
      "🏃 View run run_16 at: http://host.docker.internal:5000/#/experiments/1/runs/9e3842af75de425e857eefeb0c7c0d65\n",
      "🧪 View experiment at: http://host.docker.internal:5000/#/experiments/1\n",
      "Run 17: Accuracy = 0.9701\n",
      "🏃 View run run_17 at: http://host.docker.internal:5000/#/experiments/1/runs/caea1e125d094d9cb423aacdd14e1331\n",
      "🧪 View experiment at: http://host.docker.internal:5000/#/experiments/1\n",
      "Run 18: Accuracy = 0.9701\n",
      "🏃 View run run_18 at: http://host.docker.internal:5000/#/experiments/1/runs/2a2b4dc88ca24596be1d7ef063f394c1\n",
      "🧪 View experiment at: http://host.docker.internal:5000/#/experiments/1\n",
      "Run 19: Accuracy = 0.9701\n",
      "🏃 View run run_19 at: http://host.docker.internal:5000/#/experiments/1/runs/6e3023ba51684a91a463600ff1005433\n",
      "🧪 View experiment at: http://host.docker.internal:5000/#/experiments/1\n",
      "Run 20: Accuracy = 0.9851\n",
      "🏃 View run run_20 at: http://host.docker.internal:5000/#/experiments/1/runs/098c22e20fa1430884b0dee5eb820a2b\n",
      "🧪 View experiment at: http://host.docker.internal:5000/#/experiments/1\n",
      "¡Experimentación completada! Revisa la UI de MLflow en http://localhost:5000\n"
     ]
    }
   ],
   "source": [
    "import mlflow\n",
    "import pandas as pd\n",
    "import random\n",
    "from sklearn.model_selection import train_test_split\n",
    "from sklearn.ensemble import RandomForestClassifier\n",
    "from sklearn.metrics import accuracy_score\n",
    "from sqlalchemy import create_engine\n",
    "import os\n",
    "\n",
    "# --- 1. Conexión a Servicios ---\n",
    "mlflow.set_tracking_uri(\"http://host.docker.internal:5000\")\n",
    "\n",
    "# Conexión a la Base de Datos PostgreSQL para los datos\n",
    "db_user = 'mlflow_user'\n",
    "db_pass = 'mlflow_pass'\n",
    "db_host = 'host.docker.internal'\n",
    "db_port = '5432'\n",
    "db_name = 'mlflow_db'\n",
    "engine = create_engine(f'postgresql://{db_user}:{db_pass}@{db_host}:{db_port}/{db_name}')\n",
    "print(\"Conexiones establecidas.\")\n",
    "\n",
    "# --- 2. Carga y Almacenamiento de Datos en la DB ---\n",
    "url = \"https://raw.githubusercontent.com/allisonhorst/palmerpenguins/main/inst/extdata/penguins.csv\"\n",
    "penguins_df = pd.read_csv(url)\n",
    "penguins_df.dropna(inplace=True)\n",
    "penguins_df.to_sql('raw_penguins_data', engine, if_exists='replace', index=False)\n",
    "print(\"Datos crudos guardados en la tabla 'raw_penguins_data'.\")\n",
    "\n",
    "# --- 3. Procesamiento de Datos ---\n",
    "features = ['bill_length_mm', 'bill_depth_mm', 'flipper_length_mm', 'body_mass_g']\n",
    "target = 'species'\n",
    "df_processed = penguins_df[features + [target]]\n",
    "df_processed.to_sql('processed_penguins_data', engine, if_exists='replace', index=False)\n",
    "print(\"Datos procesados guardados en la tabla 'processed_penguins_data'.\")\n",
    "X = df_processed[features]\n",
    "y = df_processed[target]\n",
    "X_train, X_test, y_train, y_test = train_test_split(X, y, test_size=0.2, random_state=42)\n",
    "\n",
    "# --- 4. Experimentación y Registro en MLflow ---\n",
    "experiment_name = \"Penguin_Species_Classifier\"\n",
    "mlflow.set_experiment(experiment_name)\n",
    "registered_model_name = \"PenguinClassifierModel\"\n",
    "for i in range(20):\n",
    "    with mlflow.start_run(run_name=f\"run_{i+1}\") as run:\n",
    "        n_estimators = random.randint(10, 200)\n",
    "        max_depth = random.randint(5, 20)\n",
    "        min_samples_split = random.randint(2, 10)\n",
    "        mlflow.log_param(\"n_estimators\", n_estimators)\n",
    "        mlflow.log_param(\"max_depth\", max_depth)\n",
    "        mlflow.log_param(\"min_samples_split\", min_samples_split)\n",
    "        model = RandomForestClassifier(\n",
    "            n_estimators=n_estimators,\n",
    "            max_depth=max_depth,\n",
    "            min_samples_split=min_samples_split,\n",
    "            random_state=42\n",
    "        )\n",
    "        model.fit(X_train, y_train)\n",
    "        predictions = model.predict(X_test)\n",
    "        acc = accuracy_score(y_test, predictions)\n",
    "        mlflow.log_metric(\"accuracy\", acc)\n",
    "        print(f\"Run {i+1}: Accuracy = {acc:.4f}\")\n",
    "\n",
    "        if i == 0:\n",
    "             mlflow.sklearn.log_model(\n",
    "                sk_model=model,\n",
    "                artifact_path=\"model\",\n",
    "                registered_model_name=registered_model_name\n",
    "            )\n",
    "print(\"¡Experimentación completada! Revisa la UI de MLflow en http://localhost:5000\")"
   ]
  },
  {
   "cell_type": "code",
   "execution_count": 2,
   "id": "41952e05-b5fb-4c25-ae3e-84c5891247c9",
   "metadata": {},
   "outputs": [
    {
     "name": "stdout",
     "output_type": "stream",
     "text": [
      "1.3.1\n"
     ]
    }
   ],
   "source": [
    "import sklearn\n",
    "print(sklearn.__version__)"
   ]
  },
  {
   "cell_type": "code",
   "execution_count": null,
   "id": "54b33c6a-92b2-4ae1-83ca-f11c0286119e",
   "metadata": {},
   "outputs": [],
   "source": []
  }
 ],
 "metadata": {
  "kernelspec": {
   "display_name": "Python 3 (ipykernel)",
   "language": "python",
   "name": "python3"
  },
  "language_info": {
   "codemirror_mode": {
    "name": "ipython",
    "version": 3
   },
   "file_extension": ".py",
   "mimetype": "text/x-python",
   "name": "python",
   "nbconvert_exporter": "python",
   "pygments_lexer": "ipython3",
   "version": "3.11.6"
  }
 },
 "nbformat": 4,
 "nbformat_minor": 5
}
