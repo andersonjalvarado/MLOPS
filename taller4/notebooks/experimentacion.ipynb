{
 "cells": [
  {
   "cell_type": "code",
   "execution_count": 1,
   "id": "02059ab2-3a3b-41ba-98c3-dd1dcc7e9b14",
   "metadata": {},
   "outputs": [
    {
     "name": "stdout",
     "output_type": "stream",
     "text": [
      "Conexiones establecidas.\n",
      "Datos crudos guardados en la tabla 'raw_penguins_data'.\n",
      "Datos procesados guardados en la tabla 'processed_penguins_data'.\n"
     ]
    },
    {
     "name": "stderr",
     "output_type": "stream",
     "text": [
      "2025/09/25 12:54:01 WARNING mlflow.models.model: `artifact_path` is deprecated. Please use `name` instead.\n"
     ]
    },
    {
     "name": "stdout",
     "output_type": "stream",
     "text": [
      "Run 1: Accuracy = 0.9701\n"
     ]
    },
    {
     "name": "stderr",
     "output_type": "stream",
     "text": [
      "\u001b[31m2025/09/25 12:54:04 WARNING mlflow.models.model: Model logged without a signature and input example. Please set `input_example` parameter when logging the model to auto infer the model signature.\u001b[0m\n",
      "Registered model 'PenguinClassifierModel' already exists. Creating a new version of this model...\n",
      "2025/09/25 12:54:05 INFO mlflow.store.model_registry.abstract_store: Waiting up to 300 seconds for model version to finish creation. Model name: PenguinClassifierModel, version 2\n",
      "Created version '2' of model 'PenguinClassifierModel'.\n"
     ]
    },
    {
     "name": "stdout",
     "output_type": "stream",
     "text": [
      "🏃 View run run_1 at: http://host.docker.internal:5000/#/experiments/1/runs/a6c074638f4441b996388e92d12c3347\n",
      "🧪 View experiment at: http://host.docker.internal:5000/#/experiments/1\n",
      "Run 2: Accuracy = 0.9701\n",
      "🏃 View run run_2 at: http://host.docker.internal:5000/#/experiments/1/runs/3242c58fa272417f810ec4ca3a86b66b\n",
      "🧪 View experiment at: http://host.docker.internal:5000/#/experiments/1\n",
      "Run 3: Accuracy = 0.9701\n",
      "🏃 View run run_3 at: http://host.docker.internal:5000/#/experiments/1/runs/8820a4593ab94ebcaa34d15fbec877e3\n",
      "🧪 View experiment at: http://host.docker.internal:5000/#/experiments/1\n",
      "Run 4: Accuracy = 0.9701\n",
      "🏃 View run run_4 at: http://host.docker.internal:5000/#/experiments/1/runs/cba6a1ecef5a4313b62a8b0aabe4e8d7\n",
      "🧪 View experiment at: http://host.docker.internal:5000/#/experiments/1\n",
      "Run 5: Accuracy = 0.9701\n",
      "🏃 View run run_5 at: http://host.docker.internal:5000/#/experiments/1/runs/71c321cea28e4ebd8a7ce11113ed7727\n",
      "🧪 View experiment at: http://host.docker.internal:5000/#/experiments/1\n",
      "Run 6: Accuracy = 0.9851\n",
      "🏃 View run run_6 at: http://host.docker.internal:5000/#/experiments/1/runs/dea8406f2e5d4e6fb60a64a76907ad4c\n",
      "🧪 View experiment at: http://host.docker.internal:5000/#/experiments/1\n",
      "Run 7: Accuracy = 0.9701\n",
      "🏃 View run run_7 at: http://host.docker.internal:5000/#/experiments/1/runs/ca4743d312ba4f2a8c5e59697443aee1\n",
      "🧪 View experiment at: http://host.docker.internal:5000/#/experiments/1\n",
      "Run 8: Accuracy = 0.9851\n",
      "🏃 View run run_8 at: http://host.docker.internal:5000/#/experiments/1/runs/6b04e4e344344a9c9bfdca817019269a\n",
      "🧪 View experiment at: http://host.docker.internal:5000/#/experiments/1\n",
      "Run 9: Accuracy = 0.9701\n",
      "🏃 View run run_9 at: http://host.docker.internal:5000/#/experiments/1/runs/003f2d948be741369c8d6590c6856113\n",
      "🧪 View experiment at: http://host.docker.internal:5000/#/experiments/1\n",
      "Run 10: Accuracy = 0.9701\n",
      "🏃 View run run_10 at: http://host.docker.internal:5000/#/experiments/1/runs/d10b9047895a4f6eab7db4b52e44b479\n",
      "🧪 View experiment at: http://host.docker.internal:5000/#/experiments/1\n",
      "Run 11: Accuracy = 0.9701\n",
      "🏃 View run run_11 at: http://host.docker.internal:5000/#/experiments/1/runs/e74dc74877db427ebdf939ea84b785f7\n",
      "🧪 View experiment at: http://host.docker.internal:5000/#/experiments/1\n",
      "Run 12: Accuracy = 0.9701\n",
      "🏃 View run run_12 at: http://host.docker.internal:5000/#/experiments/1/runs/d56f1a802278478d93c6bfa3f3c2ba22\n",
      "🧪 View experiment at: http://host.docker.internal:5000/#/experiments/1\n",
      "Run 13: Accuracy = 0.9701\n",
      "🏃 View run run_13 at: http://host.docker.internal:5000/#/experiments/1/runs/93dcebd677c3401a9ee795f9eab1113e\n",
      "🧪 View experiment at: http://host.docker.internal:5000/#/experiments/1\n",
      "Run 14: Accuracy = 0.9701\n",
      "🏃 View run run_14 at: http://host.docker.internal:5000/#/experiments/1/runs/3f0898bc78f54bb1af6aff5faaf6e76f\n",
      "🧪 View experiment at: http://host.docker.internal:5000/#/experiments/1\n",
      "Run 15: Accuracy = 0.9701\n",
      "🏃 View run run_15 at: http://host.docker.internal:5000/#/experiments/1/runs/4871a6b8b47e4fa7a92b7db7c9dd25b5\n",
      "🧪 View experiment at: http://host.docker.internal:5000/#/experiments/1\n",
      "Run 16: Accuracy = 0.9701\n",
      "🏃 View run run_16 at: http://host.docker.internal:5000/#/experiments/1/runs/8a63e3e2690e4849972d9b855e17ab8b\n",
      "🧪 View experiment at: http://host.docker.internal:5000/#/experiments/1\n",
      "Run 17: Accuracy = 0.9701\n",
      "🏃 View run run_17 at: http://host.docker.internal:5000/#/experiments/1/runs/696536e83f564fedb0598e802a803434\n",
      "🧪 View experiment at: http://host.docker.internal:5000/#/experiments/1\n",
      "Run 18: Accuracy = 0.9701\n",
      "🏃 View run run_18 at: http://host.docker.internal:5000/#/experiments/1/runs/f165e7d3316843e9b352985816fd622e\n",
      "🧪 View experiment at: http://host.docker.internal:5000/#/experiments/1\n",
      "Run 19: Accuracy = 0.9701\n",
      "🏃 View run run_19 at: http://host.docker.internal:5000/#/experiments/1/runs/a8637030d60f4de0aebfaa2a3721b0bb\n",
      "🧪 View experiment at: http://host.docker.internal:5000/#/experiments/1\n",
      "Run 20: Accuracy = 0.9701\n",
      "🏃 View run run_20 at: http://host.docker.internal:5000/#/experiments/1/runs/c9109a110784459184197ffc23324cc5\n",
      "🧪 View experiment at: http://host.docker.internal:5000/#/experiments/1\n",
      "¡Experimentación completada! Revisa la UI de MLflow en http://localhost:5000\n"
     ]
    }
   ],
   "source": [
    "import mlflow\n",
    "import pandas as pd\n",
    "import random\n",
    "from sklearn.model_selection import train_test_split\n",
    "from sklearn.ensemble import RandomForestClassifier\n",
    "from sklearn.metrics import accuracy_score\n",
    "from sqlalchemy import create_engine\n",
    "import os\n",
    "\n",
    "# --- 1. Conexión a Servicios ---\n",
    "mlflow.set_tracking_uri(\"http://host.docker.internal:5000\")\n",
    "\n",
    "# Conexión a la Base de Datos PostgreSQL para los datos\n",
    "db_user = 'mlflow_user'\n",
    "db_pass = 'mlflow_pass'\n",
    "db_host = 'host.docker.internal'\n",
    "db_port = '5432'\n",
    "db_name = 'mlflow_db'\n",
    "engine = create_engine(f'postgresql://{db_user}:{db_pass}@{db_host}:{db_port}/{db_name}')\n",
    "print(\"Conexiones establecidas.\")\n",
    "\n",
    "# --- 2. Carga y Almacenamiento de Datos en la DB ---\n",
    "url = \"https://raw.githubusercontent.com/allisonhorst/palmerpenguins/main/inst/extdata/penguins.csv\"\n",
    "penguins_df = pd.read_csv(url)\n",
    "penguins_df.dropna(inplace=True)\n",
    "penguins_df.to_sql('raw_penguins_data', engine, if_exists='replace', index=False)\n",
    "print(\"Datos crudos guardados en la tabla 'raw_penguins_data'.\")\n",
    "\n",
    "# --- 3. Procesamiento de Datos ---\n",
    "features = ['bill_length_mm', 'bill_depth_mm', 'flipper_length_mm', 'body_mass_g']\n",
    "target = 'species'\n",
    "df_processed = penguins_df[features + [target]]\n",
    "df_processed.to_sql('processed_penguins_data', engine, if_exists='replace', index=False)\n",
    "print(\"Datos procesados guardados en la tabla 'processed_penguins_data'.\")\n",
    "X = df_processed[features]\n",
    "y = df_processed[target]\n",
    "X_train, X_test, y_train, y_test = train_test_split(X, y, test_size=0.2, random_state=42)\n",
    "\n",
    "# --- 4. Experimentación y Registro en MLflow ---\n",
    "experiment_name = \"Penguin_Species_Classifier\"\n",
    "mlflow.set_experiment(experiment_name)\n",
    "registered_model_name = \"PenguinClassifierModel\"\n",
    "for i in range(20):\n",
    "    with mlflow.start_run(run_name=f\"run_{i+1}\") as run:\n",
    "        n_estimators = random.randint(10, 200)\n",
    "        max_depth = random.randint(5, 20)\n",
    "        min_samples_split = random.randint(2, 10)\n",
    "        mlflow.log_param(\"n_estimators\", n_estimators)\n",
    "        mlflow.log_param(\"max_depth\", max_depth)\n",
    "        mlflow.log_param(\"min_samples_split\", min_samples_split)\n",
    "        model = RandomForestClassifier(\n",
    "            n_estimators=n_estimators,\n",
    "            max_depth=max_depth,\n",
    "            min_samples_split=min_samples_split,\n",
    "            random_state=42\n",
    "        )\n",
    "        model.fit(X_train, y_train)\n",
    "        predictions = model.predict(X_test)\n",
    "        acc = accuracy_score(y_test, predictions)\n",
    "        mlflow.log_metric(\"accuracy\", acc)\n",
    "        print(f\"Run {i+1}: Accuracy = {acc:.4f}\")\n",
    "\n",
    "        if i == 0:\n",
    "             mlflow.sklearn.log_model(\n",
    "                sk_model=model,\n",
    "                artifact_path=\"model\",\n",
    "                registered_model_name=registered_model_name\n",
    "            )\n",
    "print(\"¡Experimentación completada! Revisa la UI de MLflow en http://localhost:5000\")"
   ]
  },
  {
   "cell_type": "code",
   "execution_count": 2,
   "id": "41952e05-b5fb-4c25-ae3e-84c5891247c9",
   "metadata": {},
   "outputs": [
    {
     "name": "stdout",
     "output_type": "stream",
     "text": [
      "1.3.1\n"
     ]
    }
   ],
   "source": [
    "import sklearn\n",
    "print(sklearn.__version__)"
   ]
  },
  {
   "cell_type": "code",
   "execution_count": null,
   "id": "54b33c6a-92b2-4ae1-83ca-f11c0286119e",
   "metadata": {},
   "outputs": [],
   "source": []
  }
 ],
 "metadata": {
  "kernelspec": {
   "display_name": "Python 3 (ipykernel)",
   "language": "python",
   "name": "python3"
  },
  "language_info": {
   "codemirror_mode": {
    "name": "ipython",
    "version": 3
   },
   "file_extension": ".py",
   "mimetype": "text/x-python",
   "name": "python",
   "nbconvert_exporter": "python",
   "pygments_lexer": "ipython3",
   "version": "3.11.6"
  }
 },
 "nbformat": 4,
 "nbformat_minor": 5
}
