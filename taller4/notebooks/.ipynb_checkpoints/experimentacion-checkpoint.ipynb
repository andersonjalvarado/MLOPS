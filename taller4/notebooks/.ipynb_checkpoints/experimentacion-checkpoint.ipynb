{
 "cells": [
  {
   "cell_type": "code",
   "execution_count": null,
   "id": "02059ab2-3a3b-41ba-98c3-dd1dcc7e9b14",
   "metadata": {},
   "outputs": [
    {
     "name": "stdout",
     "output_type": "stream",
     "text": [
      "Conexiones establecidas.\n",
      "Datos crudos guardados en la tabla 'raw_penguins_data'.\n",
      "Datos procesados guardados en la tabla 'processed_penguins_data'.\n"
     ]
    }
   ],
   "source": [
    "import mlflow\n",
    "import pandas as pd\n",
    "import random\n",
    "from sklearn.model_selection import train_test_split\n",
    "from sklearn.ensemble import RandomForestClassifier\n",
    "from sklearn.metrics import accuracy_score\n",
    "from sqlalchemy import create_engine\n",
    "import os\n",
    "\n",
    "# --- 1. Conexión a Servicios ---\n",
    "mlflow.set_tracking_uri(\"http://host.docker.internal:5000\")\n",
    "\n",
    "# Conexión a la Base de Datos PostgreSQL para los datos\n",
    "db_user = 'mlflow_user'\n",
    "db_pass = 'mlflow_pass'\n",
    "db_host = 'host.docker.internal'\n",
    "db_port = '5432'\n",
    "db_name = 'mlflow_db'\n",
    "engine = create_engine(f'postgresql://{db_user}:{db_pass}@{db_host}:{db_port}/{db_name}')\n",
    "print(\"Conexiones establecidas.\")\n",
    "\n",
    "# --- 2. Carga y Almacenamiento de Datos en la DB ---\n",
    "url = \"https://raw.githubusercontent.com/allisonhorst/palmerpenguins/main/inst/extdata/penguins.csv\"\n",
    "penguins_df = pd.read_csv(url)\n",
    "penguins_df.dropna(inplace=True)\n",
    "penguins_df.to_sql('raw_penguins_data', engine, if_exists='replace', index=False)\n",
    "print(\"Datos crudos guardados en la tabla 'raw_penguins_data'.\")\n",
    "\n",
    "# --- 3. Procesamiento de Datos ---\n",
    "features = ['bill_length_mm', 'bill_depth_mm', 'flipper_length_mm', 'body_mass_g']\n",
    "target = 'species'\n",
    "df_processed = penguins_df[features + [target]]\n",
    "df_processed.to_sql('processed_penguins_data', engine, if_exists='replace', index=False)\n",
    "print(\"Datos procesados guardados en la tabla 'processed_penguins_data'.\")\n",
    "X = df_processed[features]\n",
    "y = df_processed[target]\n",
    "X_train, X_test, y_train, y_test = train_test_split(X, y, test_size=0.2, random_state=42)\n",
    "\n",
    "# --- 4. Experimentación y Registro en MLflow ---\n",
    "experiment_name = \"Penguin_Species_Classifier\"\n",
    "mlflow.set_experiment(experiment_name)\n",
    "registered_model_name = \"PenguinClassifierModel\"\n",
    "for i in range(20):\n",
    "    with mlflow.start_run(run_name=f\"run_{i+1}\") as run:\n",
    "        n_estimators = random.randint(10, 200)\n",
    "        max_depth = random.randint(5, 20)\n",
    "        min_samples_split = random.randint(2, 10)\n",
    "        mlflow.log_param(\"n_estimators\", n_estimators)\n",
    "        mlflow.log_param(\"max_depth\", max_depth)\n",
    "        mlflow.log_param(\"min_samples_split\", min_samples_split)\n",
    "        model = RandomForestClassifier(\n",
    "            n_estimators=n_estimators,\n",
    "            max_depth=max_depth,\n",
    "            min_samples_split=min_samples_split,\n",
    "            random_state=42\n",
    "        )\n",
    "        model.fit(X_train, y_train)\n",
    "        predictions = model.predict(X_test)\n",
    "        acc = accuracy_score(y_test, predictions)\n",
    "        mlflow.log_metric(\"accuracy\", acc)\n",
    "        print(f\"Run {i+1}: Accuracy = {acc:.4f}\")\n",
    "\n",
    "        if i == 0:\n",
    "             mlflow.sklearn.log_model(\n",
    "                sk_model=model,\n",
    "                artifact_path=\"model\",\n",
    "                registered_model_name=registered_model_name\n",
    "            )\n",
    "print(\"¡Experimentación completada! Revisa la UI de MLflow en http://localhost:5000\")"
   ]
  },
  {
   "cell_type": "code",
   "execution_count": null,
   "id": "41952e05-b5fb-4c25-ae3e-84c5891247c9",
   "metadata": {},
   "outputs": [],
   "source": []
  }
 ],
 "metadata": {
  "kernelspec": {
   "display_name": "Python 3 (ipykernel)",
   "language": "python",
   "name": "python3"
  },
  "language_info": {
   "codemirror_mode": {
    "name": "ipython",
    "version": 3
   },
   "file_extension": ".py",
   "mimetype": "text/x-python",
   "name": "python",
   "nbconvert_exporter": "python",
   "pygments_lexer": "ipython3",
   "version": "3.11.6"
  }
 },
 "nbformat": 4,
 "nbformat_minor": 5
}
